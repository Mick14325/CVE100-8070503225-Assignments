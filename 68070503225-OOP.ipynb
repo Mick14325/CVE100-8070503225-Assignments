{
 "cells": [
  {
   "cell_type": "code",
   "execution_count": 7,
   "id": "cb2effc5",
   "metadata": {},
   "outputs": [],
   "source": [
    "class car:\n",
    "    def __init__(self, model, rent_per_day, available):\n",
    "        self.model = model\n",
    "        self.rent_per_day = rent_per_day\n",
    "        self.available = True\n",
    "    def rent(self,day):\n",
    "        if self.available:\n",
    "            self.available = False\n",
    "            total_cost = self.rent_per_day * day\n",
    "            print(\"Car rented. Total cost =\", total_cost)\n",
    "        else:print(\"Car not available\")\n",
    "    def return_car (self):\n",
    "        self.available = True\n",
    "        print(\"car returned\")\n",
    "    def display (self):\n",
    "        print(\"Model\", self.model)\n",
    "        print(\"Rent per day\", self.rent_per_day)\n",
    "        print(\"Available\", self.available)"
   ]
  },
  {
   "cell_type": "code",
   "execution_count": 6,
   "id": "691e5873",
   "metadata": {},
   "outputs": [
    {
     "name": "stdout",
     "output_type": "stream",
     "text": [
      "Car rented. Total cost = 5000\n",
      "Model Toyato\n",
      "Rent per day 1000\n",
      "Available False\n",
      "car returned\n",
      "Model Toyato\n",
      "Rent per day 1000\n",
      "Available True\n"
     ]
    }
   ],
   "source": [
    "Car1=car(\"Toyato\",1000,True)\n",
    "Car1.rent(5)\n",
    "Car1.display()\n",
    "Car1.return_car()\n",
    "Car1.display()"
   ]
  },
  {
   "cell_type": "code",
   "execution_count": 60,
   "id": "5036df05",
   "metadata": {},
   "outputs": [],
   "source": [
    "class Person:\n",
    "    def __init__(self,name,age):\n",
    "        self.name = name\n",
    "        self.age = age\n",
    "    def display_info (self):\n",
    "        print(\"Name:\",self.name , \"Age:\",self.age)\n",
    "class Student(Person):\n",
    "    def __init__(self,name,age):\n",
    "        super().__init__(name,age)\n",
    "        self.marks = {}\n",
    "    def add_marks(self,subject,score):\n",
    "        if subject in self.marks:\n",
    "            old_score = self.marks[subject]\n",
    "            self.marks[subject] = score\n",
    "            print(\"Update the score of the subject\")\n",
    "            print(\"Old score =\", old_score)\n",
    "            print(\"New Score =\",score)\n",
    "        else:\n",
    "            self.marks[subject] = score\n",
    "            print(\"Add new subject\")\n",
    "    def display_marks(self):\n",
    "        print(\"Score =\", self.marks)\n",
    "    def avarage(self):\n",
    "        if self.marks == 0:\n",
    "            return 0\n",
    "        avg = sum(self.marks.values()) / len(self.marks)\n",
    "        print(avg)"
   ]
  },
  {
   "cell_type": "code",
   "execution_count": 63,
   "id": "3f428340",
   "metadata": {},
   "outputs": [
    {
     "name": "stdout",
     "output_type": "stream",
     "text": [
      "Add new subject\n",
      "Add new subject\n",
      "Score = {'Eng': 14, 'Math': 90}\n"
     ]
    }
   ],
   "source": [
    "std1=Student(\"Mick\",15)\n",
    "std1.add_marks(\"Eng\",14)\n",
    "std1.add_marks(\"Math\",90)\n",
    "std1.display_marks()"
   ]
  },
  {
   "cell_type": "code",
   "execution_count": 64,
   "id": "87a4449b",
   "metadata": {},
   "outputs": [
    {
     "name": "stdout",
     "output_type": "stream",
     "text": [
      "52.0\n"
     ]
    }
   ],
   "source": [
    "std1.avarage()"
   ]
  }
 ],
 "metadata": {
  "kernelspec": {
   "display_name": "Python 3",
   "language": "python",
   "name": "python3"
  },
  "language_info": {
   "codemirror_mode": {
    "name": "ipython",
    "version": 3
   },
   "file_extension": ".py",
   "mimetype": "text/x-python",
   "name": "python",
   "nbconvert_exporter": "python",
   "pygments_lexer": "ipython3",
   "version": "3.12.6"
  }
 },
 "nbformat": 4,
 "nbformat_minor": 5
}
