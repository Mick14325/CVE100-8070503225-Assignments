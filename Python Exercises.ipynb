{
  "cells": [
    {
      "cell_type": "markdown",
      "metadata": {
        "id": "aQpKyKwlFooY"
      },
      "source": [
        "#  Numbers"
      ]
    },
    {
      "cell_type": "markdown",
      "metadata": {
        "id": "nXknIIBwFooZ"
      },
      "source": [
        "Compute the number of bytes in one Gigabyte (1kb = 1024 bytes, 1mb = 1024 kb, 1gb = 1024 mb)"
      ]
    },
    {
      "cell_type": "code",
      "execution_count": null,
      "metadata": {
        "id": "2p-KOICjFooZ",
        "colab": {
          "base_uri": "https://localhost:8080/"
        },
        "outputId": "f7d09d79-ef9c-4c4e-a322-386e58c75608"
      },
      "outputs": [
        {
          "output_type": "execute_result",
          "data": {
            "text/plain": [
              "1073741824"
            ]
          },
          "metadata": {},
          "execution_count": 2
        }
      ],
      "source": [
        "#Write your code here\n",
        "bytes_to_gb = 1024 ** 3\n",
        "bytes_to_gb"
      ]
    },
    {
      "cell_type": "markdown",
      "metadata": {
        "id": "1vQzPuFsFooa"
      },
      "source": [
        "You bought 500 shares of stock A at $\\$$600 on day 0 and you sold it at  $\\$$1000 on day 700.\n",
        "The daily discount rate is 0.0001%. How much profit did you make in terms of net present value.\n"
      ]
    },
    {
      "cell_type": "code",
      "execution_count": null,
      "metadata": {
        "id": "n80QXWAhFooa",
        "colab": {
          "base_uri": "https://localhost:8080/"
        },
        "outputId": "749db659-a7e3-40e5-8907-7e9d4f4f8e94"
      },
      "outputs": [
        {
          "output_type": "execute_result",
          "data": {
            "text/plain": [
              "(499990.00010500004, 199990.00010500004)"
            ]
          },
          "metadata": {},
          "execution_count": 1
        }
      ],
      "source": [
        "#Write your code here\n",
        "shares = 500\n",
        "buy_price = 600\n",
        "sell_price = 1000\n",
        "days_held = 20\n",
        "daily_discount_rate = 0.0001 / 100\n",
        "\n",
        "pv_sale = shares * sell_price / ((1 + daily_discount_rate) ** days_held)\n",
        "initial_outlay = shares * buy_price\n",
        "npv_profit = pv_sale - initial_outlay\n",
        "\n",
        "pv_sale, npv_profit"
      ]
    },
    {
      "cell_type": "markdown",
      "metadata": {
        "id": "_lyVv9QiFooa"
      },
      "source": [
        "For any value of x, create a variable called even_check that is True if x is even and False if x is odd."
      ]
    },
    {
      "cell_type": "code",
      "execution_count": null,
      "metadata": {
        "run_control": {
          "marked": true
        },
        "colab": {
          "base_uri": "https://localhost:8080/"
        },
        "id": "pWD2MLLNFooa",
        "outputId": "7a9e2029-1d89-49ac-c1f2-e659d7074aae"
      },
      "outputs": [
        {
          "output_type": "execute_result",
          "data": {
            "text/plain": [
              "True"
            ]
          },
          "metadata": {},
          "execution_count": 3
        }
      ],
      "source": [
        "#Write your code here\n",
        "x = 32\n",
        "even_check = (x% 2 == 0)\n",
        "even_check"
      ]
    },
    {
      "cell_type": "markdown",
      "metadata": {
        "id": "XPG7llADFooa"
      },
      "source": [
        "You have num_shirts t-shirts, num_shorts pairs of shorts and num_shoes pairs of shoes.  Create a variable called num_outfits that stores the total number of different outfits you can make."
      ]
    },
    {
      "cell_type": "code",
      "execution_count": null,
      "metadata": {
        "colab": {
          "base_uri": "https://localhost:8080/"
        },
        "id": "iI1Dqc7wFooa",
        "outputId": "6a7e24ec-a6da-4c92-e683-221b6bf5c340"
      },
      "outputs": [
        {
          "output_type": "execute_result",
          "data": {
            "text/plain": [
              "125"
            ]
          },
          "metadata": {},
          "execution_count": 4
        }
      ],
      "source": [
        "#Write your code here\n",
        "\n",
        "num_shirts = 5\n",
        "num_shorts = 5\n",
        "num_shoes = 5\n",
        "num_outfits = num_shirts * num_shorts * num_shoes\n",
        "num_outfits"
      ]
    },
    {
      "cell_type": "markdown",
      "metadata": {
        "id": "r62t46l_Fooa"
      },
      "source": [
        "# String Practice\n",
        "\n",
        "Create variable called \"name\" that stores your full name. Find whether your name has an even or odd number of letters."
      ]
    },
    {
      "cell_type": "code",
      "execution_count": null,
      "metadata": {
        "id": "-JSOgkx_Fooa",
        "colab": {
          "base_uri": "https://localhost:8080/"
        },
        "outputId": "cc28a79f-a1e0-4017-c015-9223d4966834"
      },
      "outputs": [
        {
          "output_type": "stream",
          "name": "stdout",
          "text": [
            "Even number of letters\n"
          ]
        }
      ],
      "source": [
        "#Write your code here\n",
        "name = \"Satapat Bulatanakul\"\n",
        "if len(name.replace(\" \", \"\")) % 2 == 0:\n",
        "    print(\"Even number of letters\")\n",
        "else:\n",
        "    print(\"Odd number of letters\")"
      ]
    },
    {
      "cell_type": "markdown",
      "metadata": {
        "id": "0XELrKSSFoob"
      },
      "source": [
        "Correct the following variable so it is equal to \"spammy\""
      ]
    },
    {
      "cell_type": "code",
      "execution_count": 7,
      "metadata": {
        "id": "rlAKpUD6Foob",
        "colab": {
          "base_uri": "https://localhost:8080/",
          "height": 35
        },
        "outputId": "24735363-7d40-48c9-ce57-6254f244ba26"
      },
      "outputs": [
        {
          "output_type": "execute_result",
          "data": {
            "text/plain": [
              "'spammy'"
            ],
            "application/vnd.google.colaboratory.intrinsic+json": {
              "type": "string"
            }
          },
          "metadata": {},
          "execution_count": 7
        }
      ],
      "source": [
        "#Write your code here\n",
        "s = \"spaxxy\"\n",
        "s = s[:3] + \"mmy\"\n",
        "s\n"
      ]
    },
    {
      "cell_type": "markdown",
      "metadata": {
        "id": "2OtbNcXoFoob"
      },
      "source": [
        "Figure out a way to slice and combine the strings s1, s2, and s3 so that the variable consec_ints = \"123456789\"."
      ]
    },
    {
      "cell_type": "code",
      "execution_count": null,
      "metadata": {
        "colab": {
          "base_uri": "https://localhost:8080/",
          "height": 35
        },
        "id": "MwVT8DE8Foob",
        "outputId": "966f2cea-afba-4d48-ae0a-71ddb13fba3a"
      },
      "outputs": [
        {
          "output_type": "execute_result",
          "data": {
            "text/plain": [
              "'123456789'"
            ],
            "application/vnd.google.colaboratory.intrinsic+json": {
              "type": "string"
            }
          },
          "metadata": {},
          "execution_count": 16
        }
      ],
      "source": [
        "s1 = \"12345\"\n",
        "s2 = \"34567\"\n",
        "s3 = \"789\"\n",
        "\n",
        "#Write your code here\n",
        "consec_ints = s1 + s2[3:] + s3[1:]\n",
        "consec_ints"
      ]
    },
    {
      "cell_type": "markdown",
      "metadata": {
        "id": "R4c-cPOgFoob"
      },
      "source": [
        "#  List Practice\n",
        "\n"
      ]
    },
    {
      "cell_type": "markdown",
      "metadata": {
        "id": "1XW2gUbbFoob"
      },
      "source": [
        "Add the first and last elements of the list L. Store the result in a variable called sum_first_last. Your code should work if I change L."
      ]
    },
    {
      "cell_type": "code",
      "execution_count": null,
      "metadata": {
        "id": "JcgdnpdOFoob",
        "colab": {
          "base_uri": "https://localhost:8080/"
        },
        "outputId": "f9b5966b-65e4-4d85-ce80-ca1e6d4674c9"
      },
      "outputs": [
        {
          "output_type": "execute_result",
          "data": {
            "text/plain": [
              "72"
            ]
          },
          "metadata": {},
          "execution_count": 26
        }
      ],
      "source": [
        "L = [5,1,43,2,4,56,7,90, 67]\n",
        "\n",
        "#Write your code here\n",
        "L = [5,1,43,2,4,56,7,90,67]\n",
        "sum_first_last = L[0] + L[-1]\n",
        "sum_first_last"
      ]
    },
    {
      "cell_type": "markdown",
      "metadata": {
        "id": "TXQFnwlfFoob"
      },
      "source": [
        "Slice and combine the elements of the list L in a way to print out \"spam\"."
      ]
    },
    {
      "cell_type": "code",
      "execution_count": 1,
      "metadata": {
        "id": "Tm6ejLwHFoob",
        "colab": {
          "base_uri": "https://localhost:8080/",
          "height": 35
        },
        "outputId": "ae7ceb4c-3220-4d4e-c00e-cfa46fdad3ad"
      },
      "outputs": [
        {
          "output_type": "execute_result",
          "data": {
            "text/plain": [
              "'spam'"
            ],
            "application/vnd.google.colaboratory.intrinsic+json": {
              "type": "string"
            }
          },
          "metadata": {},
          "execution_count": 1
        }
      ],
      "source": [
        "L = [1,\"s\", 2, 3, \"p\", \"a\", 34,1,\"m\"]\n",
        "\n",
        "#Write your code here\n",
        "\n",
        "word = L[1] + L[4] + L[5] + L[-1]\n",
        "word"
      ]
    },
    {
      "cell_type": "markdown",
      "metadata": {
        "id": "_2Zn5pZ6Foob"
      },
      "source": [
        "Create a variable called num_L which store the number represented by the list of strings in L.  For the example num_L should be 145. You may assume 3 digit numbers."
      ]
    },
    {
      "cell_type": "code",
      "execution_count": 2,
      "metadata": {
        "id": "IzEaIABpFoob",
        "colab": {
          "base_uri": "https://localhost:8080/"
        },
        "outputId": "8639734e-e57c-4ff3-dcf8-9a772a24134a"
      },
      "outputs": [
        {
          "output_type": "execute_result",
          "data": {
            "text/plain": [
              "145"
            ]
          },
          "metadata": {},
          "execution_count": 2
        }
      ],
      "source": [
        "L = [\"1\",\"4\",\"5\" ]\n",
        "\n",
        "#Write you code here\n",
        "\n",
        "num_L = int(\"\".join(L))\n",
        "num_L"
      ]
    },
    {
      "cell_type": "markdown",
      "metadata": {
        "id": "SYRMZbgrFoob"
      },
      "source": [
        "Create a list L of numbers of odd length.  Complete the following tasks:\n",
        "\n",
        " - Find the median element\n",
        " - Slice out all element indexed lower than the median element"
      ]
    },
    {
      "cell_type": "code",
      "execution_count": 3,
      "metadata": {
        "id": "nBewB3KgFoob",
        "colab": {
          "base_uri": "https://localhost:8080/"
        },
        "outputId": "8f3c16dc-3250-4e7e-c550-7e1185467e93"
      },
      "outputs": [
        {
          "output_type": "stream",
          "name": "stdout",
          "text": [
            "Median element: 2\n",
            "Sliced list: [2, 6, 6, 9]\n"
          ]
        }
      ],
      "source": [
        "L= [4,5,3,2,6,6,9]\n",
        "\n",
        "#Write your code here\n",
        "\n",
        "median_index = len(L) // 2\n",
        "median_element = L[median_index]\n",
        "\n",
        "sliced_L = L[median_index:]\n",
        "\n",
        "print(\"Median element:\", median_element)\n",
        "print(\"Sliced list:\", sliced_L)\n"
      ]
    }
  ],
  "metadata": {
    "kernelspec": {
      "display_name": "Python 3",
      "language": "python",
      "name": "python3"
    },
    "language_info": {
      "codemirror_mode": {
        "name": "ipython",
        "version": 3
      },
      "file_extension": ".py",
      "mimetype": "text/x-python",
      "name": "python",
      "nbconvert_exporter": "python",
      "pygments_lexer": "ipython3",
      "version": "3.6.0"
    },
    "toc": {
      "colors": {
        "hover_highlight": "#DAA520",
        "navigate_num": "#000000",
        "navigate_text": "#333333",
        "running_highlight": "#FF0000",
        "selected_highlight": "#FFD700",
        "sidebar_border": "#EEEEEE",
        "wrapper_background": "#FFFFFF"
      },
      "moveMenuLeft": true,
      "nav_menu": {
        "height": "12px",
        "width": "252px"
      },
      "navigate_menu": true,
      "number_sections": true,
      "sideBar": true,
      "skip_h1_title": false,
      "threshold": 4,
      "toc_cell": false,
      "toc_position": {},
      "toc_section_display": "block",
      "toc_window_display": false,
      "widenNotebook": false
    },
    "colab": {
      "provenance": []
    }
  },
  "nbformat": 4,
  "nbformat_minor": 0
}