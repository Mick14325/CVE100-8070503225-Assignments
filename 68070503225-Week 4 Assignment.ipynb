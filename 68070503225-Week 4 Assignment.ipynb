{
 "cells": [
  {
   "cell_type": "markdown",
   "id": "5e3643b1",
   "metadata": {},
   "source": [
    "# Even and Odd\n",
    "iterate for loop from number 1 to n:\n",
    "if number is even, print \"[number]\" is even\"\n",
    "otherwise, print \"[number]\" is odd:\n",
    "\n",
    "if n = ==> expected output\n",
    "0 is even.\n",
    "1 is odd.\n",
    "2 is even.\n",
    "3 is odd.\n",
    "4 is even."
   ]
  },
  {
   "cell_type": "code",
   "execution_count": 24,
   "id": "bc23832c",
   "metadata": {},
   "outputs": [
    {
     "name": "stdout",
     "output_type": "stream",
     "text": [
      "1 is odd\n",
      "2 is even\n",
      "3 is odd\n",
      "4 is even\n",
      "5 is odd\n",
      "6 is even\n",
      "7 is odd\n",
      "8 is even\n",
      "9 is odd\n",
      "10 is even\n"
     ]
    }
   ],
   "source": [
    "n = 11\n",
    "for i in range(1,n):\n",
    "    if i%2 == 0 :\n",
    "        print(i, \"is even\")\n",
    "    else:\n",
    "        print(i, \"is odd\")\n"
   ]
  },
  {
   "cell_type": "markdown",
   "id": "ae0e807a",
   "metadata": {},
   "source": [
    "Multiplication\n",
    "- define n (n = 5)\n",
    "- Use loop from 1 to 10 (the values of 1 is 1 to 10)\n",
    "- if the result of multiplication (num*i) is greater than 50 => print (\"The result is large\")\n",
    "otherwise, print the actual result ==> print ('Result=\", result)"
   ]
  },
  {
   "cell_type": "code",
   "execution_count": 31,
   "id": "760aec60",
   "metadata": {},
   "outputs": [
    {
     "name": "stdout",
     "output_type": "stream",
     "text": [
      "Result= 7\n",
      "Result= 14\n",
      "Result= 21\n",
      "Result= 28\n",
      "Result= 35\n",
      "Result= 42\n",
      "Result= 49\n",
      "The result is larger\n",
      "The result is larger\n",
      "The result is larger\n"
     ]
    }
   ],
   "source": [
    "n = 7\n",
    "for i in range(1,11):\n",
    "    result = n * i\n",
    "    if result >= 50:\n",
    "        print(\"The result is larger\")\n",
    "    else:\n",
    "        print(\"Result=\", result)"
   ]
  },
  {
   "cell_type": "markdown",
   "id": "4ef52c0a",
   "metadata": {},
   "source": [
    "Skipping the special number\n",
    "\n",
    "define n\n",
    "loop numbers from 1 to n\n",
    "if the number is divisible 4 ==> skip it with continue\n",
    "if the number is greater than 20 ==> stop the loop with break\n",
    "otherwise --> print the number"
   ]
  },
  {
   "cell_type": "code",
   "execution_count": null,
   "id": "84ea4b31",
   "metadata": {},
   "outputs": [
    {
     "name": "stdout",
     "output_type": "stream",
     "text": [
      "1\n",
      "2\n",
      "3\n",
      "5\n",
      "6\n",
      "7\n",
      "9\n",
      "10\n",
      "11\n",
      "13\n",
      "14\n",
      "15\n"
     ]
    }
   ],
   "source": [
    "n = 16\n",
    "for i in range(1,n):\n",
    "    if i%4 == 0:\n",
    "        continue\n",
    "    if i%4>20:\n",
    "        break\n",
    "    else:\n",
    "        print(i)"
   ]
  },
  {
   "cell_type": "markdown",
   "id": "6825f0f4",
   "metadata": {},
   "source": [
    "Guess The number\n",
    " The secret number is 777.\n",
    " - Ask the user to guess until they get it right\n",
    " - If the guess is wrong, print \" Try Again\" and ask the user again.\n",
    " - If the guess is correct, print \"you got it\" and stop the loop."
   ]
  },
  {
   "cell_type": "code",
   "execution_count": 10,
   "id": "10ce0f6f",
   "metadata": {},
   "outputs": [
    {
     "name": "stdout",
     "output_type": "stream",
     "text": [
      "Try Again\n",
      "Try Again\n",
      "You Got It!\n"
     ]
    }
   ],
   "source": [
    "secret = 777\n",
    "guess = int(input(\"Guess three digit lucky number from 000 to 999\"))\n",
    "while secret != guess:\n",
    "    print(\"Try Again\")\n",
    "    guess = int(input(\"Guess three digit lucky number from 000 to 999\"))\n",
    "print(\"You Got It!\")"
   ]
  },
  {
   "cell_type": "markdown",
   "id": "05803b5b",
   "metadata": {},
   "source": [
    "Shopping Cart Checkout System\n",
    "\n",
    "Use initial variable total_bill=0\n",
    "Ask user to add price and add the price to total_bill.\n",
    "If total_bill>1000, print (\"limit reached. You cannot buy anymore\" and break the loop)\n",
    "otherwise, ask user to add price "
   ]
  },
  {
   "cell_type": "code",
   "execution_count": 37,
   "id": "e3ce6bd9",
   "metadata": {},
   "outputs": [
    {
     "name": "stdout",
     "output_type": "stream",
     "text": [
      "You need to add something more\n",
      "limit reached. You cannot buy anymore\n"
     ]
    }
   ],
   "source": [
    "Total_bill = 0\n",
    "while Total_bill<=1000:\n",
    "    Total_bill+=price\n",
    "    print(\"You need to add something more\")\n",
    "    price = int(input(\"Price\"))\n",
    "    Total_bill+=price\n",
    "print(\"limit reached. You cannot buy anymore\")"
   ]
  }
 ],
 "metadata": {
  "kernelspec": {
   "display_name": "Python 3",
   "language": "python",
   "name": "python3"
  },
  "language_info": {
   "codemirror_mode": {
    "name": "ipython",
    "version": 3
   },
   "file_extension": ".py",
   "mimetype": "text/x-python",
   "name": "python",
   "nbconvert_exporter": "python",
   "pygments_lexer": "ipython3",
   "version": "3.12.6"
  }
 },
 "nbformat": 4,
 "nbformat_minor": 5
}
