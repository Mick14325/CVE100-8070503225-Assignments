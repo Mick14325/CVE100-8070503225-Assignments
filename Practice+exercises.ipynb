{
  "cells": [
    {
      "cell_type": "markdown",
      "id": "186222d0",
      "metadata": {
        "id": "186222d0"
      },
      "source": [
        "Exercise 1\n",
        "\n",
        "Write a function to report the weather condition.\n",
        "Input ==> Temperature ('C)\n",
        "\n",
        "IF the temperature is below 0, print \"Freezing Cold\"\n",
        "IF the temperature is 0-20, print \"Cold Weather\"\n",
        "IF the temperature is 21-30, print \" Warm Weather\"\n",
        "Otherwise, print \"Hot Weather\""
      ]
    },
    {
      "cell_type": "code",
      "execution_count": 3,
      "id": "4bbb422e",
      "metadata": {
        "id": "4bbb422e"
      },
      "outputs": [],
      "source": [
        "def weather_report(temp: float):\n",
        "    if temp < 0:\n",
        "        print(\"Freezing Cold\")\n",
        "    elif 0 <= temp <= 20:\n",
        "        print(\"Cold Weather\")\n",
        "    elif 21 <= temp <= 30:\n",
        "        print(\"Warm Weather\")\n",
        "    else:\n",
        "        print(\"Hot Weather\")"
      ]
    },
    {
      "cell_type": "markdown",
      "id": "36f44c18",
      "metadata": {
        "id": "36f44c18"
      },
      "source": [
        "Exercise 2\n",
        "\n",
        "Write a function that takes an integer as an input score\n",
        "\n",
        "If the score is greater than or equal to 50, print \"Pass\"\n",
        "If the score is greater than or equal to 75, print \"Good\"\n",
        "If the score is exactly 100, print \"Perfect\"\n",
        "\n",
        "Since these are multiple independent conditions, more than one message print"
      ]
    },
    {
      "cell_type": "code",
      "execution_count": 4,
      "id": "b3971fd8",
      "metadata": {
        "id": "b3971fd8"
      },
      "outputs": [],
      "source": [
        "def get_score(score: float):\n",
        "    if score >= 50:\n",
        "        print(\"Pass\")\n",
        "    if score >= 75:\n",
        "        print(\"Good\")\n",
        "    if score == 100:\n",
        "        print(\"Perfect\")"
      ]
    },
    {
      "cell_type": "markdown",
      "id": "5c1b906e",
      "metadata": {
        "id": "5c1b906e"
      },
      "source": [
        "Exercise 3\n",
        "\n",
        "Write a program that returns the count of vowels in the string. Use a for loop to go through each character in the string.\n",
        "\n",
        "Input ==> apple, Output ==> 2\n",
        "\n",
        "Input ==> Hello World, Output => 3\n",
        "\n",
        "Input ==> balloon, Output ==> 3"
      ]
    },
    {
      "cell_type": "code",
      "execution_count": 5,
      "id": "64239a6d",
      "metadata": {
        "id": "64239a6d"
      },
      "outputs": [],
      "source": [
        "def count_vowels(st: str):\n",
        "    count = 0\n",
        "    #TO DO\n",
        "    vowels = \"aeiouAEIOU\"\n",
        "    for char in st:\n",
        "        if char in vowels:\n",
        "            count += 1\n",
        "    return count"
      ]
    }
  ],
  "metadata": {
    "language_info": {
      "name": "python"
    },
    "colab": {
      "provenance": []
    },
    "kernelspec": {
      "name": "python3",
      "display_name": "Python 3"
    }
  },
  "nbformat": 4,
  "nbformat_minor": 5
}